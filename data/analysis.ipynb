{
 "cells": [
  {
   "cell_type": "code",
   "execution_count": 1,
   "metadata": {},
   "outputs": [],
   "source": [
    "import pandas as pd\n",
    "pd.set_option('display.max_rows', None)\n",
    "pd.set_option('display.max_columns', None)"
   ]
  },
  {
   "cell_type": "code",
   "execution_count": 2,
   "metadata": {},
   "outputs": [],
   "source": [
    "df = pd.read_csv('drugs_side_effects_drugs_com.csv')"
   ]
  },
  {
   "cell_type": "code",
   "execution_count": 33,
   "metadata": {},
   "outputs": [
    {
     "name": "stdout",
     "output_type": "stream",
     "text": [
      "Yes\n"
     ]
    }
   ],
   "source": [
    "d = df[df['medical_condition']=='Depression'].drug_name.unique()\n",
    "if 'deplin' in d or 'Deplin' in d:\n",
    "    print('Yes')"
   ]
  },
  {
   "cell_type": "code",
   "execution_count": 30,
   "metadata": {},
   "outputs": [
    {
     "data": {
      "text/plain": [
       "array(['Ambien', 'zolpidem', 'Belsomra', 'suvorexant', 'Dayvigo',\n",
       "       'temazepam', 'daridorexant', 'lemborexant', 'Quviviq', 'Lunesta',\n",
       "       'Restoril', 'estazolam', 'flurazepam', 'Halcion', 'Ambien CR',\n",
       "       'eszopiclone', 'Rozerem', 'Silenor', 'Sonata', 'Advil PM',\n",
       "       'triazolam', 'quazepam', 'Edluar', 'Tylenol PM',\n",
       "       'Unisom SleepTabs', 'zaleplon', 'Compoz Nighttime Sleep Aid',\n",
       "       'Doral', 'ramelteon', 'chloral hydrate', 'dimenhydrinate',\n",
       "       'diphenhydramine / ibuprofen', 'Nytol', 'pentobarbital',\n",
       "       'Simply Sleep', 'Sominex', 'Unisom SleepGels', 'Unisom SleepMelts',\n",
       "       'Zolpimist', 'ZzzQuil', 'acetaminophen / diphenhydramine',\n",
       "       'amobarbital', 'Ibuprofen PM', 'Nighttime Sleepaid',\n",
       "       'Nytol QuickCaps', 'phenobarbital', 'Sleep Aid', 'Sleepinal',\n",
       "       'Z-Sleep', 'Aleve PM', 'diphenhydramine / magnesium salicylate',\n",
       "       'diphenhydramine / naproxen', 'Doans PM', 'Headache Relief PM',\n",
       "       'Legatrin PM', 'Midol PM', 'Motrin PM',\n",
       "       'Percogesic Extra Strength', 'Percogesic Original Strength',\n",
       "       'zopiclone'], dtype=object)"
      ]
     },
     "execution_count": 30,
     "metadata": {},
     "output_type": "execute_result"
    }
   ],
   "source": [
    "d"
   ]
  },
  {
   "cell_type": "code",
   "execution_count": 21,
   "metadata": {},
   "outputs": [
    {
     "name": "stdout",
     "output_type": "stream",
     "text": [
      "Acne\n",
      "ADHD\n",
      "AIDS/HIV\n",
      "Allergies\n",
      "Alzheimer's\n",
      "Angina\n",
      "Anxiety\n",
      "Asthma\n",
      "Bipolar Disorder\n",
      "Bronchitis\n",
      "Cancer\n",
      "Cholesterol\n",
      "Colds & Flu\n",
      "Constipation\n",
      "COPD\n",
      "Covid 19\n",
      "Depression\n",
      "Diabetes (Type 1)\n",
      "Diabetes (Type 2)\n",
      "Diarrhea\n",
      "Eczema\n",
      "Erectile Dysfunction\n",
      "Gastrointestinal\n",
      "GERD (Heartburn)\n",
      "Gout\n",
      "Hair Loss\n",
      "Hayfever\n",
      "Herpes\n",
      "Hypertension\n",
      "Hypothyroidism\n",
      "IBD (Bowel)\n",
      "Incontinence\n",
      "Insomnia\n",
      "Menopause\n",
      "Migraine\n",
      "Osteoarthritis\n",
      "Osteoporosis\n",
      "Pain\n",
      "Pneumonia\n",
      "Psoriasis\n",
      "Rheumatoid Arthritis\n",
      "Schizophrenia\n",
      "Seizures\n",
      "Stroke\n",
      "Swine Flu\n",
      "UTI\n",
      "Weight Loss\n"
     ]
    },
    {
     "data": {
      "text/plain": [
       "[None,\n",
       " None,\n",
       " None,\n",
       " None,\n",
       " None,\n",
       " None,\n",
       " None,\n",
       " None,\n",
       " None,\n",
       " None,\n",
       " None,\n",
       " None,\n",
       " None,\n",
       " None,\n",
       " None,\n",
       " None,\n",
       " None,\n",
       " None,\n",
       " None,\n",
       " None,\n",
       " None,\n",
       " None,\n",
       " None,\n",
       " None,\n",
       " None,\n",
       " None,\n",
       " None,\n",
       " None,\n",
       " None,\n",
       " None,\n",
       " None,\n",
       " None,\n",
       " None,\n",
       " None,\n",
       " None,\n",
       " None,\n",
       " None,\n",
       " None,\n",
       " None,\n",
       " None,\n",
       " None,\n",
       " None,\n",
       " None,\n",
       " None,\n",
       " None,\n",
       " None,\n",
       " None]"
      ]
     },
     "execution_count": 21,
     "metadata": {},
     "output_type": "execute_result"
    }
   ],
   "source": [
    "drugs = df.medical_condition.unique()\n",
    "[print(drug) for drug in drugs]\n"
   ]
  },
  {
   "cell_type": "code",
   "execution_count": 9,
   "metadata": {},
   "outputs": [
    {
     "data": {
      "text/plain": [
       "(2931, 17)"
      ]
     },
     "execution_count": 9,
     "metadata": {},
     "output_type": "execute_result"
    }
   ],
   "source": [
    "df.shape"
   ]
  },
  {
   "cell_type": "code",
   "execution_count": 5,
   "metadata": {},
   "outputs": [
    {
     "data": {
      "text/html": [
       "<div>\n",
       "<style scoped>\n",
       "    .dataframe tbody tr th:only-of-type {\n",
       "        vertical-align: middle;\n",
       "    }\n",
       "\n",
       "    .dataframe tbody tr th {\n",
       "        vertical-align: top;\n",
       "    }\n",
       "\n",
       "    .dataframe thead th {\n",
       "        text-align: right;\n",
       "    }\n",
       "</style>\n",
       "<table border=\"1\" class=\"dataframe\">\n",
       "  <thead>\n",
       "    <tr style=\"text-align: right;\">\n",
       "      <th></th>\n",
       "      <th>drug_name</th>\n",
       "      <th>medical_condition</th>\n",
       "      <th>side_effects</th>\n",
       "      <th>generic_name</th>\n",
       "      <th>drug_classes</th>\n",
       "      <th>brand_names</th>\n",
       "      <th>activity</th>\n",
       "      <th>rx_otc</th>\n",
       "      <th>pregnancy_category</th>\n",
       "      <th>csa</th>\n",
       "      <th>alcohol</th>\n",
       "      <th>related_drugs</th>\n",
       "      <th>medical_condition_description</th>\n",
       "      <th>rating</th>\n",
       "      <th>no_of_reviews</th>\n",
       "      <th>drug_link</th>\n",
       "      <th>medical_condition_url</th>\n",
       "    </tr>\n",
       "  </thead>\n",
       "  <tbody>\n",
       "    <tr>\n",
       "      <th>4</th>\n",
       "      <td>clindamycin</td>\n",
       "      <td>Acne</td>\n",
       "      <td>hives ; difficult breathing; swelling of your ...</td>\n",
       "      <td>clindamycin topical</td>\n",
       "      <td>Topical acne agents, Vaginal anti-infectives</td>\n",
       "      <td>Cleocin T, Clindacin ETZ, Clindacin P, Clindag...</td>\n",
       "      <td>39%</td>\n",
       "      <td>Rx</td>\n",
       "      <td>B</td>\n",
       "      <td>N</td>\n",
       "      <td>NaN</td>\n",
       "      <td>doxycycline: https://www.drugs.com/doxycycline...</td>\n",
       "      <td>Acne Other names: Acne Vulgaris; Blackheads; B...</td>\n",
       "      <td>7.4</td>\n",
       "      <td>146.0</td>\n",
       "      <td>https://www.drugs.com/mtm/clindamycin-topical....</td>\n",
       "      <td>https://www.drugs.com/condition/acne.html</td>\n",
       "    </tr>\n",
       "    <tr>\n",
       "      <th>2584</th>\n",
       "      <td>clindamycin</td>\n",
       "      <td>Pneumonia</td>\n",
       "      <td>Antibiotic medicines can cause diarrhea, which...</td>\n",
       "      <td>clindamycin (oral/injection)</td>\n",
       "      <td>Lincomycin derivatives</td>\n",
       "      <td>Cleocin HCl, Cleocin Pediatric, Cleocin Phosphate</td>\n",
       "      <td>15%</td>\n",
       "      <td>Rx</td>\n",
       "      <td>B</td>\n",
       "      <td>N</td>\n",
       "      <td>NaN</td>\n",
       "      <td>NaN</td>\n",
       "      <td>Pneumonia Other names: Bronchopneumonia; Commu...</td>\n",
       "      <td>5.8</td>\n",
       "      <td>4.0</td>\n",
       "      <td>https://www.drugs.com/clindamycin.html</td>\n",
       "      <td>https://www.drugs.com/condition/pneumonia.html</td>\n",
       "    </tr>\n",
       "  </tbody>\n",
       "</table>\n",
       "</div>"
      ],
      "text/plain": [
       "        drug_name medical_condition  \\\n",
       "4     clindamycin              Acne   \n",
       "2584  clindamycin         Pneumonia   \n",
       "\n",
       "                                           side_effects  \\\n",
       "4     hives ; difficult breathing; swelling of your ...   \n",
       "2584  Antibiotic medicines can cause diarrhea, which...   \n",
       "\n",
       "                      generic_name  \\\n",
       "4              clindamycin topical   \n",
       "2584  clindamycin (oral/injection)   \n",
       "\n",
       "                                      drug_classes  \\\n",
       "4     Topical acne agents, Vaginal anti-infectives   \n",
       "2584                        Lincomycin derivatives   \n",
       "\n",
       "                                            brand_names activity rx_otc  \\\n",
       "4     Cleocin T, Clindacin ETZ, Clindacin P, Clindag...      39%     Rx   \n",
       "2584  Cleocin HCl, Cleocin Pediatric, Cleocin Phosphate      15%     Rx   \n",
       "\n",
       "     pregnancy_category csa alcohol  \\\n",
       "4                     B   N     NaN   \n",
       "2584                  B   N     NaN   \n",
       "\n",
       "                                          related_drugs  \\\n",
       "4     doxycycline: https://www.drugs.com/doxycycline...   \n",
       "2584                                                NaN   \n",
       "\n",
       "                          medical_condition_description  rating  \\\n",
       "4     Acne Other names: Acne Vulgaris; Blackheads; B...     7.4   \n",
       "2584  Pneumonia Other names: Bronchopneumonia; Commu...     5.8   \n",
       "\n",
       "      no_of_reviews                                          drug_link  \\\n",
       "4             146.0  https://www.drugs.com/mtm/clindamycin-topical....   \n",
       "2584            4.0             https://www.drugs.com/clindamycin.html   \n",
       "\n",
       "                               medical_condition_url  \n",
       "4          https://www.drugs.com/condition/acne.html  \n",
       "2584  https://www.drugs.com/condition/pneumonia.html  "
      ]
     },
     "execution_count": 5,
     "metadata": {},
     "output_type": "execute_result"
    }
   ],
   "source": [
    "df[df['drug_name']=='clindamycin']\n",
    "#df[df['medical_condition']=='ADHD']"
   ]
  }
 ],
 "metadata": {
  "kernelspec": {
   "display_name": "Python 3",
   "language": "python",
   "name": "python3"
  },
  "language_info": {
   "codemirror_mode": {
    "name": "ipython",
    "version": 3
   },
   "file_extension": ".py",
   "mimetype": "text/x-python",
   "name": "python",
   "nbconvert_exporter": "python",
   "pygments_lexer": "ipython3",
   "version": "3.9.19"
  }
 },
 "nbformat": 4,
 "nbformat_minor": 2
}
